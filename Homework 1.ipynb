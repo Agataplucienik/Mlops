{
 "cells": [
  {
   "cell_type": "code",
   "execution_count": 1,
   "id": "38cedff5",
   "metadata": {},
   "outputs": [],
   "source": [
    "import pandas as pd\n",
    "import sklearn\n",
    "import seaborn as sns\n",
    "import matplotlib.pyplot as plt"
   ]
  },
  {
   "cell_type": "code",
   "execution_count": 2,
   "id": "4c66284c",
   "metadata": {},
   "outputs": [],
   "source": [
    "import pickle"
   ]
  },
  {
   "cell_type": "code",
   "execution_count": 3,
   "id": "98aab34f",
   "metadata": {},
   "outputs": [],
   "source": [
    "jan=pd.read_parquet(\"yellow_tripdata_2023-01.parquet\")"
   ]
  },
  {
   "cell_type": "code",
   "execution_count": 4,
   "id": "495b9f93",
   "metadata": {},
   "outputs": [
    {
     "data": {
      "text/plain": [
       "(3066766, 19)"
      ]
     },
     "execution_count": 4,
     "metadata": {},
     "output_type": "execute_result"
    }
   ],
   "source": [
    "jan.shape"
   ]
  },
  {
   "cell_type": "code",
   "execution_count": 5,
   "id": "351cfcf1",
   "metadata": {},
   "outputs": [],
   "source": [
    "jan.tpep_pickup_datetime= pd.to_datetime(jan.tpep_pickup_datetime)\n",
    "jan.tpep_dropoff_datetime= pd.to_datetime(jan.tpep_dropoff_datetime)\n",
    "jan[\"duration\"]=jan.tpep_dropoff_datetime-jan.tpep_pickup_datetime\n",
    "jan.duration=jan.duration.apply(lambda td : td.total_seconds()/60)"
   ]
  },
  {
   "cell_type": "code",
   "execution_count": 6,
   "id": "340018c2",
   "metadata": {},
   "outputs": [
    {
     "data": {
      "text/plain": [
       "42.59435124195458"
      ]
     },
     "execution_count": 6,
     "metadata": {},
     "output_type": "execute_result"
    }
   ],
   "source": [
    "jan.duration.std()"
   ]
  },
  {
   "cell_type": "code",
   "execution_count": 7,
   "id": "c080e6d6",
   "metadata": {},
   "outputs": [],
   "source": [
    "jan2=jan[(jan.duration >= 1) & (jan.duration <= 60)]"
   ]
  },
  {
   "cell_type": "code",
   "execution_count": 8,
   "id": "952f1b6e",
   "metadata": {},
   "outputs": [
    {
     "data": {
      "text/plain": [
       "0.9812202822125979"
      ]
     },
     "execution_count": 8,
     "metadata": {},
     "output_type": "execute_result"
    }
   ],
   "source": [
    "len(jan2)/len(jan)"
   ]
  },
  {
   "cell_type": "code",
   "execution_count": 12,
   "id": "aab603d7",
   "metadata": {},
   "outputs": [],
   "source": [
    "categorical= [\"PULocationID\", \"DOLocationID\"]\n",
    "jan[categorical]=jan[categorical].astype(\"string\")\n",
    "dv= DictVectorizer()\n",
    "numerical=[\"trip_distance\"]\n",
    "target=\"duration\"\n",
    "\n",
    "train_dict= jan[categorical].to_dict(orient=\"records\")\n",
    "X_train= dv.fit_transform(train_dict)"
   ]
  },
  {
   "cell_type": "code",
   "execution_count": 13,
   "id": "5ee6f0c0",
   "metadata": {},
   "outputs": [
    {
     "data": {
      "text/plain": [
       "(3066766, 518)"
      ]
     },
     "execution_count": 13,
     "metadata": {},
     "output_type": "execute_result"
    }
   ],
   "source": [
    "X_train.shape"
   ]
  },
  {
   "cell_type": "code",
   "execution_count": null,
   "id": "db44aa44",
   "metadata": {},
   "outputs": [],
   "source": []
  },
  {
   "cell_type": "code",
   "execution_count": 14,
   "id": "c3e313f3",
   "metadata": {},
   "outputs": [
    {
     "data": {
      "text/plain": [
       "41.99649768735752"
      ]
     },
     "execution_count": 14,
     "metadata": {},
     "output_type": "execute_result"
    }
   ],
   "source": [
    "y_train=jan[target].values\n",
    "\n",
    "lr=LinearRegression()\n",
    "lr.fit(X_train, y_train)\n",
    "y_pred= lr.predict(X_train)\n",
    "mean_squared_error(y_train, y_pred, squared=False)"
   ]
  },
  {
   "cell_type": "code",
   "execution_count": null,
   "id": "2da38b00",
   "metadata": {},
   "outputs": [],
   "source": []
  },
  {
   "cell_type": "code",
   "execution_count": 10,
   "id": "634638b4",
   "metadata": {},
   "outputs": [],
   "source": [
    "from sklearn.feature_extraction import DictVectorizer\n",
    "from sklearn.linear_model import LinearRegression\n",
    "from sklearn.linear_model import Lasso\n",
    "from sklearn.metrics import mean_squared_error"
   ]
  },
  {
   "cell_type": "code",
   "execution_count": null,
   "id": "316caf81",
   "metadata": {},
   "outputs": [],
   "source": [
    "def readdata(filename):\n",
    "    jan=pd.read_parquet(filename)\n",
    "    jan.tpep_pickup_datetime= pd.to_datetime(jan.tpep_pickup_datetime)\n",
    "    jan.tpep_dropoff_datetime= pd.to_datetime(jan.tpep_dropoff_datetime)\n",
    "    jan[\"duration\"]=jan.tpep_dropoff_datetime-jan.tpep_pickup_datetime\n",
    "    jan.duration=jan.duration.apply(lambda td : td.total_seconds()/60)\n",
    "    jan=jan[(jan.duration >= 1) & (jan.duration <= 60)]\n",
    "    categorical= [\"PULocationID\", \"DOLocationID\"]\n",
    "    jan[categorical]=jan[categorical].astype(\"string\")\n",
    "    return jan"
   ]
  },
  {
   "cell_type": "code",
   "execution_count": null,
   "id": "4d58dfa0",
   "metadata": {},
   "outputs": [],
   "source": [
    "df_train=readdata(\"yellow_tripdata_2023-01.parquet\")\n",
    "df_val=readdata(\"yellow_tripdata_2023-02.parquet\")"
   ]
  },
  {
   "cell_type": "code",
   "execution_count": null,
   "id": "df6daf98",
   "metadata": {},
   "outputs": [],
   "source": [
    "df_train[\"PU_DU\"]=df_train[\"PULocationID\"]+ \"_\" + df_train[\"DOLocationID\"]\n",
    "df_val[\"PU_DU\"]=df_val[\"PULocationID\"]+ \"_\" + df_val[\"DOLocationID\"]"
   ]
  },
  {
   "cell_type": "code",
   "execution_count": null,
   "id": "628c59e8",
   "metadata": {},
   "outputs": [],
   "source": [
    "categorical= [\"PU_DU\"]\n",
    "numerical=[\"trip_distance\"]\n",
    "target=\"duration\"\n",
    "dv= DictVectorizer()\n",
    "train_dict= df_train[categorical + numerical].to_dict(orient=\"records\")\n",
    "X_train= dv.fit_transform(train_dict)\n",
    "\n",
    "val_dict= df_val[categorical + numerical].to_dict(orient=\"records\")\n",
    "X_val= dv.transform(val_dict)"
   ]
  },
  {
   "cell_type": "code",
   "execution_count": null,
   "id": "8efbae8c",
   "metadata": {},
   "outputs": [],
   "source": [
    "y_train=df_train[target].values\n",
    "y_val=df_val[target].values\n",
    "lr=LinearRegression()\n",
    "lr.fit(X_train, y_train)\n",
    "y_pred= lr.predict(X_val)\n",
    "mean_squared_error(y_val, y_pred, squared=False)"
   ]
  },
  {
   "cell_type": "code",
   "execution_count": null,
   "id": "d67e6baf",
   "metadata": {},
   "outputs": [],
   "source": [
    "with open(\"models/linear_regression.bin\", \"wb\") as f_out:\n",
    "    pickle.dump((dv, lr), f_out)"
   ]
  },
  {
   "cell_type": "code",
   "execution_count": null,
   "id": "3f97ea01",
   "metadata": {},
   "outputs": [],
   "source": []
  }
 ],
 "metadata": {
  "kernelspec": {
   "display_name": "Python 3 (ipykernel)",
   "language": "python",
   "name": "python3"
  },
  "language_info": {
   "codemirror_mode": {
    "name": "ipython",
    "version": 3
   },
   "file_extension": ".py",
   "mimetype": "text/x-python",
   "name": "python",
   "nbconvert_exporter": "python",
   "pygments_lexer": "ipython3",
   "version": "3.10.6"
  },
  "toc": {
   "base_numbering": 1,
   "nav_menu": {},
   "number_sections": true,
   "sideBar": true,
   "skip_h1_title": false,
   "title_cell": "Table of Contents",
   "title_sidebar": "Contents",
   "toc_cell": false,
   "toc_position": {},
   "toc_section_display": true,
   "toc_window_display": false
  }
 },
 "nbformat": 4,
 "nbformat_minor": 5
}
